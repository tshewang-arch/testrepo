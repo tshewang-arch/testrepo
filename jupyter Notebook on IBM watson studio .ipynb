{
 "cells": [
  {
   "cell_type": "markdown",
   "id": "ea87db57-e1ba-4470-acaa-da228ac8eb80",
   "metadata": {},
   "source": [
    "# My Jupyter Notebook on IBM Watson Studio"
   ]
  },
  {
   "cell_type": "markdown",
   "id": "77c0950f-853e-417b-8b90-c0c9add8ecbf",
   "metadata": {},
   "source": [
    "**Tshewang Dorji**\n",
    "<br>\n",
    "Data analyst"
   ]
  },
  {
   "cell_type": "markdown",
   "id": "6f30c2de-1172-4638-88e2-fb79ff8cb3ea",
   "metadata": {},
   "source": [
    "*data collection and analysis will become the basis of all future service offerings and business models.*"
   ]
  },
  {
   "cell_type": "markdown",
   "id": "8f556222-f737-4338-bf1f-8622c41be5fc",
   "metadata": {},
   "source": [
    "### the code prints the text hello world"
   ]
  },
  {
   "cell_type": "code",
   "execution_count": 2,
   "id": "e140c999-294e-4058-a0fa-c556c1b96a75",
   "metadata": {},
   "outputs": [
    {
     "name": "stdout",
     "output_type": "stream",
     "text": [
      "hello world\n"
     ]
    }
   ],
   "source": [
    "print(\"hello world\")"
   ]
  },
  {
   "cell_type": "markdown",
   "id": "67ed1a58-2f38-45d8-a9b5-9eeda8b9b4d4",
   "metadata": {
    "tags": []
   },
   "source": [
    "<h3 align=\"center\"> Menu<h3>\n",
    "    \n",
    "|serial no|Drinks|Snacks|\n",
    "|---|---|---|\n",
    "|1|water|fries|\n",
    "|---|---|---|\n",
    "|2|juice|nuggets|\n",
    "|---|---|---|\n",
    "|3|tea|~~ketchup~~|\n",
    "\n",
    "\n",
    "### Drinks menu\n",
    "- water\n",
    "- juice\n",
    "- tea\n",
    "***\n",
    "### snacks menu\n",
    "1. fries\n",
    "2. nuggets\n",
    "3. ~~ketchup~~\n",
    "4. ~~water~~"
   ]
  },
  {
   "cell_type": "code",
   "execution_count": null,
   "id": "f6d9afd0-33bd-45ca-bd86-2fa0402c837c",
   "metadata": {},
   "outputs": [],
   "source": []
  }
 ],
 "metadata": {
  "kernelspec": {
   "display_name": "Python",
   "language": "python",
   "name": "conda-env-python-py"
  },
  "language_info": {
   "codemirror_mode": {
    "name": "ipython",
    "version": 3
   },
   "file_extension": ".py",
   "mimetype": "text/x-python",
   "name": "python",
   "nbconvert_exporter": "python",
   "pygments_lexer": "ipython3",
   "version": "3.7.12"
  }
 },
 "nbformat": 4,
 "nbformat_minor": 5
}
